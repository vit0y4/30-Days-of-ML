{
 "cells": [
  {
   "cell_type": "markdown",
   "metadata": {},
   "source": [
    "# Resumen Curso Python - Kaggel\n",
    "## Los mejores ejercicios"
   ]
  },
  {
   "cell_type": "markdown",
   "metadata": {},
   "source": [
    "### 1. Exercise: Syntax, Variables, and Numbers"
   ]
  },
  {
   "cell_type": "code",
   "execution_count": 1,
   "metadata": {},
   "outputs": [
    {
     "data": {
      "text/plain": [
       "2"
      ]
     },
     "execution_count": 1,
     "metadata": {},
     "output_type": "execute_result"
    }
   ],
   "source": [
    "# Add parentheses to the following expression so that it evaluates to 0.\n",
    "8 - 3 * 2 - 1 + 1"
   ]
  },
  {
   "cell_type": "code",
   "execution_count": 3,
   "metadata": {},
   "outputs": [
    {
     "data": {
      "text/plain": [
       "0"
      ]
     },
     "execution_count": 3,
     "metadata": {},
     "output_type": "execute_result"
    }
   ],
   "source": [
    "# Nos piden añadir parentesis a la expresión anterior para que el resultado que actualmente sea 0.\n",
    "# Sabiendo que la multiplicación \"3 * 2\", se ejecuta primero, la solución saltó a la vista.\n",
    "# 3*2 = 6 --> 8-6 = 2\n",
    "# entonces encerrando entre parentesis el 1 + 1, tendríamos 2 - ( 1 + 1 )\n",
    "8 - 3 * 2 - (1 + 1)"
   ]
  },
  {
   "cell_type": "markdown",
   "metadata": {},
   "source": [
    "### 2. Exercise: Functions and Getting Help"
   ]
  },
  {
   "cell_type": "markdown",
   "metadata": {},
   "source": [
    "It may not be fun, but reading and understanding error messages will be an important part of your Python career.\n",
    "\n",
    "Each code cell below contains some commented buggy code. For each cell...\n",
    "\n",
    "1. Read the code and predict what you think will happen when it's run.\n",
    "2. Then uncomment the code and run it to see what happens. (Tip: In the kernel editor, you can highlight several lines and press ctrl+/ to toggle commenting.)\n",
    "3. Fix the code (so that it accomplishes its intended purpose without throwing an exception)"
   ]
  },
  {
   "cell_type": "code",
   "execution_count": null,
   "metadata": {},
   "outputs": [],
   "source": [
    "# Acá se nos pide revisar fragmentos de código para encontrar la causa de los errores y arreglarlos.\n",
    "# Con la ayuda de los mensajes de error es fácil.\n",
    "# Vamos con el primer fragmento de código"
   ]
  },
  {
   "cell_type": "code",
   "execution_count": 5,
   "metadata": {},
   "outputs": [
    {
     "data": {
      "text/plain": [
       "10.0"
      ]
     },
     "execution_count": 5,
     "metadata": {},
     "output_type": "execute_result"
    }
   ],
   "source": [
    "# La funcion definida es la siguiente:\n",
    "def round_to_two_places(num):\n",
    "    return round(num,2)\n",
    "##\n",
    "# ruound_to_two_places(9.9999)\n",
    "##\n",
    "\n",
    "# Incluso antes de ver el mensaje de error ya se podía intuir que el problema era un typo en el nombre\n",
    "# de la funcion. \n",
    "round_to_two_places(9.9999)"
   ]
  },
  {
   "cell_type": "code",
   "execution_count": 7,
   "metadata": {},
   "outputs": [
    {
     "name": "stdout",
     "output_type": "stream",
     "text": [
      "5\n"
     ]
    }
   ],
   "source": [
    "# Segundo fragmento\n",
    "##\n",
    "x = -10\n",
    "y = 5\n",
    "## Which of the two variables above has the smallest absolute value?\n",
    "# smallest_abs = min(abs(x, y))\n",
    "##\n",
    "# Acá suponemos que la función \"abs\" devolvería los absolutos de los numeros y luego la función \"min\"\n",
    "# nos devolvería el menor de los dos valores.\n",
    "# El error decía: \"TypeError: abs() takes exactly one argument (2 given)\"\n",
    "# entonces queda claro que el error es que la función abs, a la cual le presentamos dos argumentos\n",
    "# esperaba solo 1. \n",
    "\n",
    "smallest_abs = min(abs(x),abs(y))\n",
    "print(smallest_abs)"
   ]
  },
  {
   "cell_type": "code",
   "execution_count": 8,
   "metadata": {},
   "outputs": [
    {
     "name": "stdout",
     "output_type": "stream",
     "text": [
      "5\n"
     ]
    }
   ],
   "source": [
    "# Tercer fragmento\n",
    "##\n",
    "# def f(x):\n",
    "#     y = abs(x)\n",
    "# return y\n",
    "\n",
    "# print(f(5))\n",
    "##\n",
    "# Este fragmento tiene un error muy común en Python y es que al no usar corchetes/llaves \n",
    "# o curly braces, para delimitar los bloques de código como son las funciones, debemos estar\n",
    "# mas atentos con la indentación y los espacios. \n",
    "# El error decía: \"SyntaxError: 'return' outside function\"\n",
    "# queda claro que Python estaba considerando que la linea \"return y\", está por fuera de la función.\n",
    "def f(x):\n",
    "    y = abs(x)\n",
    "    return y\n",
    "\n",
    "print(f(5))"
   ]
  },
  {
   "cell_type": "markdown",
   "metadata": {},
   "source": [
    "### 3. Exercise: Booleans and Conditionals"
   ]
  },
  {
   "cell_type": "markdown",
   "metadata": {},
   "source": [
    "In this problem we'll be working with a simplified version of blackjack (aka twenty-one). In this version there is one player (who you'll control) and a dealer. Play proceeds as follows:\n",
    "\n",
    "- The player is dealt two face-up cards. The dealer is dealt one face-up card.\n",
    "- The player may ask to be dealt another card ('hit') as many times as they wish. If the sum of their cards exceeds 21, they lose the round immediately.\n",
    "- The dealer then deals additional cards to himself until either:\n",
    "    - the sum of the dealer's cards exceeds 21, in which case the player wins the round\n",
    "    - the sum of the dealer's cards is greater than or equal to 17. If the player's total is greater than the dealer's, the player wins. Otherwise, the dealer wins (even in case of a tie).\n",
    "\n",
    "When calculating the sum of cards, Jack, Queen, and King count for 10. Aces can count as 1 or 11 (when referring to a player's \"total\" above, we mean the largest total that can be made without exceeding 21. So e.g. A+8 = 19, A+8+8 = 17)\n",
    "\n",
    "For this problem, you'll write a function representing the player's decision-making strategy in this game. We've provided a very unintelligent implementation below:"
   ]
  },
  {
   "cell_type": "code",
   "execution_count": 1,
   "metadata": {},
   "outputs": [],
   "source": [
    "def should_hit(dealer_total, player_total, player_low_aces, player_high_aces):\n",
    "    \"\"\"Return True if the player should hit (request another card) given the current game\n",
    "    state, or False if the player should stay.\n",
    "    When calculating a hand's total value, we count aces as \"high\" (with value 11) if doing so\n",
    "    doesn't bring the total above 21, otherwise we count them as low (with value 1). \n",
    "    For example, if the player's hand is {A, A, A, 7}, we will count it as 11 + 1 + 1 + 7,\n",
    "    and therefore set player_total=20, player_low_aces=2, player_high_aces=1.\n",
    "    \"\"\"\n",
    "    return False"
   ]
  },
  {
   "cell_type": "markdown",
   "metadata": {},
   "source": [
    "Esta implementación lo que nos dice es que actúa de forma no inteligente al no solicitar mas cartas y quedarse siempre con las cartas iniciales. Luego lo que hace es simular un juego en el que nuestro jugador siempre se queda. "
   ]
  },
  {
   "cell_type": "code",
   "execution_count": 2,
   "metadata": {},
   "outputs": [],
   "source": [
    "# q7.simulate_one_game()"
   ]
  },
  {
   "cell_type": "code",
   "execution_count": 3,
   "metadata": {},
   "outputs": [],
   "source": [
    "# Player starts with 6 and A (total = 17)\n",
    "# Dealer starts with 8\n",
    "\n",
    "# __Player's turn__\n",
    "# Player stays\n",
    "\n",
    "# __Dealer's turn__\n",
    "# Dealer hits and receives 5. (total = 13)\n",
    "# Dealer hits and receives 8. (total = 21)\n",
    "# Dealer stands.\n",
    "# Dealer wins. 21 >= 17"
   ]
  },
  {
   "cell_type": "markdown",
   "metadata": {},
   "source": [
    "Luego se simulan 50000 juegos encontrando que nuestro jugador gana el 38.1% de las veces."
   ]
  },
  {
   "cell_type": "code",
   "execution_count": 4,
   "metadata": {},
   "outputs": [],
   "source": [
    "# q7.simulate(n_games=50000)\n",
    "# Player won 19036 out of 50000 games (win rate = 38.1%)"
   ]
  },
  {
   "cell_type": "markdown",
   "metadata": {},
   "source": [
    "Lo que nos animan a intentar es mejorar ese porcentaje poniendo lógica a la función should_hit."
   ]
  },
  {
   "cell_type": "code",
   "execution_count": 5,
   "metadata": {},
   "outputs": [],
   "source": [
    "def should_hit(dealer_total, player_total, player_low_aces, player_high_aces):\n",
    "    \"\"\"Return True if the player should hit (request another card) given the current game\n",
    "    state, or False if the player should stay.\n",
    "    When calculating a hand's total value, we count aces as \"high\" (with value 11) if doing so\n",
    "    doesn't bring the total above 21, otherwise we count them as low (with value 1). \n",
    "    For example, if the player's hand is {A, A, A, 7}, we will count it as 11 + 1 + 1 + 7,\n",
    "    and therefore set player_total=20, player_low_aces=2, player_high_aces=1.\n",
    "    \"\"\"\n",
    "    if player_total<=14 and dealer_total <= 17:\n",
    "        return True\n",
    "    else:\n",
    "        return False\n",
    "\n",
    "# q7.simulate(n_games=50000)"
   ]
  },
  {
   "cell_type": "code",
   "execution_count": 24,
   "metadata": {},
   "outputs": [],
   "source": [
    "# Después de batallar por algunos minutos, comprendí que dada la naturaleza aleatoria de este \n",
    "# tipo de juegos, no podía aspirar a una formula mágica que me favoreciera mas del 50% de las veces. \n",
    "# Entonces tomé como referencia el enunciado del ejercicio donde dice que el dealer sigue pidiendo \n",
    "# cartas hasta que el total le da 17, pero no quise arriesgar tanto con nuestro player por lo que fui \n",
    "# bajando el player_total, hasta que pude obtener un porcentaje de 42%."
   ]
  },
  {
   "cell_type": "code",
   "execution_count": 6,
   "metadata": {},
   "outputs": [],
   "source": [
    "# Player won 20988 out of 50000 games (win rate = 42.0%)"
   ]
  },
  {
   "cell_type": "markdown",
   "metadata": {},
   "source": [
    "*Nota* Si en algún momento como vaya avanzando encuentro alguna forma de integrar tambien los valores de los aces, lo integraré intentando mejorar el 42%, pero por ahora estoy bastante conforme. "
   ]
  },
  {
   "cell_type": "markdown",
   "metadata": {},
   "source": [
    "### 4. Exercise: Lists"
   ]
  },
  {
   "cell_type": "markdown",
   "metadata": {},
   "source": [
    "We're using lists to record people who attended our party and what order they arrived in. For example, the following list represents a party with 7 guests, in which Adela showed up first and Ford was the last to arrive:"
   ]
  },
  {
   "cell_type": "code",
   "execution_count": 8,
   "metadata": {},
   "outputs": [],
   "source": [
    "party_attendees = ['Adela', 'Fleda', 'Owen', 'May', 'Mona', 'Gilbert', 'Ford']"
   ]
  },
  {
   "cell_type": "markdown",
   "metadata": {},
   "source": [
    "A guest is considered 'fashionably late' if they arrived after at least half of the party's guests. However, they must not be the very last guest (that's taking it too far). In the above example, Mona and Gilbert are the only guests who were fashionably late.\n",
    "\n",
    "Complete the function below which takes a list of party attendees as well as a person, and tells us whether that person is fashionably late."
   ]
  },
  {
   "cell_type": "code",
   "execution_count": 13,
   "metadata": {},
   "outputs": [
    {
     "data": {
      "text/plain": [
       "True"
      ]
     },
     "execution_count": 13,
     "metadata": {},
     "output_type": "execute_result"
    }
   ],
   "source": [
    "# Lo que se nos pide acá es construir una función que recbiendo la lista de las personas que llegan\n",
    "# a una fiesta y un nombre, nos diga si dicho nombre está entre los que llegaron tarde, \n",
    "# teniendo como condición para considerar que llega tarde, que llegara después de que al\n",
    "# menos la mitad de las personas en la lista hubieran llegado, y que tampoco sea el ultimo.\n",
    " \n",
    "def fashionably_late(arrivals, name):\n",
    "    \"\"\"Given an ordered list of arrivals to the party and a name, return whether the guest with that\n",
    "    name was fashionably late.\n",
    "    \"\"\"\n",
    "    return arrivals.index(name) >= (len(arrivals)/2) and arrivals[-1]!=name\n",
    "#     if arrivals.index(name) >= (len(arrivals)/2) and arrivals[-1]!=name:\n",
    "#         return True\n",
    "#     else:\n",
    "#         return False\n",
    "\n",
    "\n",
    "fashionably_late(party_attendees, \"Mona\")"
   ]
  },
  {
   "cell_type": "markdown",
   "metadata": {},
   "source": [
    "### 5. Exercise: Loops and List Comprehensions"
   ]
  },
  {
   "cell_type": "markdown",
   "metadata": {},
   "source": [
    "Next to the Blackjack table, the Python Challenge Casino has a slot machine. You can get a result from the slot machine by calling play_slot_machine(). The number it returns is your winnings in dollars. Usually it returns 0. But sometimes you'll get lucky and get a big payday. Try running it below:"
   ]
  },
  {
   "cell_type": "code",
   "execution_count": null,
   "metadata": {},
   "outputs": [],
   "source": [
    "# play_slot_machine()"
   ]
  },
  {
   "cell_type": "markdown",
   "metadata": {},
   "source": [
    "By the way, did we mention that each play costs $1? Don't worry, we'll send you the bill later.\n",
    "\n",
    "On average, how much money can you expect to gain (or lose) every time you play the machine? The casino keeps it a secret, but you can estimate the average value of each pull using a technique called the Monte Carlo method. To estimate the average outcome, we simulate the scenario many times, and return the average result.\n",
    "\n",
    "Complete the following function to calculate the average value per play of the slot machine."
   ]
  },
  {
   "cell_type": "code",
   "execution_count": null,
   "metadata": {},
   "outputs": [],
   "source": [
    "# Lo que nos pide este ejercicio es bastante simple, es tomar una función creada por ellos \n",
    "# donde se simula el comportamiento de una maquina paga monedas en un casino.\n",
    "# Debemos asumir que ejecutar dicha función nos cuesta $1.\n",
    "# Recibimos como argumento n_runs que es el numero de veces que queremos correr la función principal.\n",
    "\n",
    "# Nos piden que nuestra función devuelva el promedio de ganancia neta.\n",
    "\n",
    "def estimate_average_slot_payout(n_runs):\n",
    "    \"\"\"Run the slot machine n_runs times and return the average net profit per run.\n",
    "    Example calls (note that return value is nondeterministic!):\n",
    "    >>> estimate_average_slot_payout(1)\n",
    "    -1\n",
    "    >>> estimate_average_slot_payout(1)\n",
    "    0.5\n",
    "    \"\"\"\n",
    "    suma=0\n",
    "    for n in range(n_runs):\n",
    "        suma= suma + play_slot_machine()-1\n",
    "    return suma/n_runs\n",
    "\n",
    "estimate_average_slot_payout(1000000)"
   ]
  },
  {
   "cell_type": "code",
   "execution_count": 15,
   "metadata": {},
   "outputs": [],
   "source": [
    "# 0.0244155"
   ]
  },
  {
   "cell_type": "code",
   "execution_count": null,
   "metadata": {},
   "outputs": [],
   "source": [
    "# Utilizamos en la función un ciclo \"for\", para asegurarnos de ejecutar la función base, \n",
    "# la cantidad de veces que lo solicitan. Vamos acumulando en la variable suma lo que vamos ganando,\n",
    "# descontando en cada ejecución 1 como lo pide el ejercicio.\n",
    "# Finalmente retornamos el promedio de lo ganado. \n",
    "# Ejecutando la función que hemos creado 1 millón de veces obtenemos una ganancia promedio de \n",
    "# alrededor de 0.025"
   ]
  },
  {
   "cell_type": "markdown",
   "metadata": {},
   "source": [
    "### 6. Exercise: Strings and Dictionaries"
   ]
  },
  {
   "cell_type": "markdown",
   "metadata": {},
   "source": [
    "#### Primera Parte"
   ]
  },
  {
   "cell_type": "markdown",
   "metadata": {},
   "source": [
    "A researcher has gathered thousands of news articles. But she wants to focus her attention on articles including a specific word. Complete the function below to help her filter her list of articles.\n",
    "\n",
    "Your function should meet the following criteria:\n",
    "\n",
    "- Do not include documents where the keyword string shows up only as a part of a larger word. For example, if she were looking for the keyword “closed”, you would not include the string “enclosed.”\n",
    "- She does not want you to distinguish upper case from lower case letters. So the phrase “Closed the case.” would be included when the keyword is “closed”\n",
    "- Do not let periods or commas affect what is matched. “It is closed.” would be included when the keyword is “closed”. But you can assume there are no other types of punctuation."
   ]
  },
  {
   "cell_type": "code",
   "execution_count": 23,
   "metadata": {},
   "outputs": [
    {
     "data": {
      "text/plain": [
       "[1]"
      ]
     },
     "execution_count": 23,
     "metadata": {},
     "output_type": "execute_result"
    }
   ],
   "source": [
    "# Lo que pide el ejercicio es que teniendo una lista de titulos y una keyword, busquemos la keyword \n",
    "# en todos los titulos de la lista y retornemos una lista de los indices de los items de la lista \n",
    "# principal que contengan la palabra teniendo en cuenta algunas restricciones.\n",
    "# como por ejemplo que no se debe dar como coincidencia si la keyword está unida o hace parte de\n",
    "# de otra palabra mas grande o que no se diferencia entre Mayúsculas y Minúsculas, y que se eliminen \n",
    "# los puntos y comas. \n",
    "def word_search(doc_list, keyword):\n",
    "    \"\"\"\n",
    "    Takes a list of documents (each document is a string) and a keyword. \n",
    "    Returns list of the index values into the original list for all documents \n",
    "    containing the keyword.\n",
    "\n",
    "    Example:\n",
    "    doc_list = [\"The Learn Python Challenge Casino.\", \"They bought a car\", \"Casinoville\"]\n",
    "    >>> word_search(doc_list, 'casino')\n",
    "    >>> [0]\n",
    "    \"\"\"\n",
    "    li = []\n",
    "    for i in range(len(doc_list)):\n",
    "        words=doc_list[i].split()\n",
    "        for word in words:\n",
    "            if (word.lower() == keyword.lower() \n",
    "            or word.lower() == keyword.lower()+\".\" \n",
    "            or word.lower() == keyword.lower()+\",\"):\n",
    "                li.append(i)\n",
    "    return li\n",
    "\n",
    "doc_list = [\"The Learn Python Challenge Casino.\", \"They bought a car\", \"Casinoville\"]\n",
    "word_search(doc_list, 'Car')"
   ]
  },
  {
   "cell_type": "code",
   "execution_count": 25,
   "metadata": {},
   "outputs": [],
   "source": [
    "# Lo primero es recorrer la lista doc_list, entonces separar cara item de esa lista en palabras.\n",
    "# Luego con un ciclo for, comparamos las palabras con la keyword, usamos el lower() para que al momento\n",
    "# de la comparación no se encuentren diferencias por las mayúsculas y minúsculas.\n",
    "# Tambien hacemos la comparación si en caso la palabra a comparar tuviera unida al final una coma o \n",
    "# un punto como lo dice el enunciado.\n",
    "# Si efectivamente existe una coincidencia, el indice correspondiente se añade a una nueva lista li, \n",
    "# que al final retornamos. "
   ]
  },
  {
   "cell_type": "markdown",
   "metadata": {},
   "source": [
    "#### Segunda Parte"
   ]
  },
  {
   "cell_type": "markdown",
   "metadata": {},
   "source": [
    "Now the researcher wants to supply multiple keywords to search for. Complete the function below to help her.\n",
    "\n",
    "(You're encouraged to use the word_search function you just wrote when implementing this function. Reusing code in this way makes your programs more robust and readable - and it saves typing!)"
   ]
  },
  {
   "cell_type": "code",
   "execution_count": 26,
   "metadata": {},
   "outputs": [
    {
     "data": {
      "text/plain": [
       "{'casino': [0, 1], 'they': [1]}"
      ]
     },
     "execution_count": 26,
     "metadata": {},
     "output_type": "execute_result"
    }
   ],
   "source": [
    "# Nos piden ahora lo mismo de la primera parte pero que no solo sea una keyword. \n",
    "# Entonces vamos a recibir una lista con titulos y una lista con Keywords. \n",
    "# Retornaremos un diccionario cuyas llaves son las keywords y los valores son una lista de lo indices\n",
    "# de los titulos que contienen dicha Keyword.\n",
    "def multi_word_search(doc_list, keywords):\n",
    "    \"\"\"\n",
    "    Takes list of documents (each document is a string) and a list of keywords.  \n",
    "    Returns a dictionary where each key is a keyword, and the value is a list of indices\n",
    "    (from doc_list) of the documents containing that keyword\n",
    "\n",
    "    >>> doc_list = [\"The Learn Python Challenge Casino.\", \"They bought a car and a casino\", \"Casinoville\"]\n",
    "    >>> keywords = ['casino', 'they']\n",
    "    >>> multi_word_search(doc_list, keywords)\n",
    "    {'casino': [0, 1], 'they': [1]}\n",
    "    \"\"\"\n",
    "    d={}\n",
    "    for keyword in keywords:\n",
    "        d[keyword]= word_search(doc_list, keyword)\n",
    "    return d\n",
    "\n",
    "doc_list = [\"The Learn Python Challenge Casino.\", \"They bought a car and a casino\", \"Casinoville\"]\n",
    "keywords = ['casino', 'they']\n",
    "multi_word_search(doc_list, keywords)"
   ]
  },
  {
   "cell_type": "code",
   "execution_count": 27,
   "metadata": {},
   "outputs": [],
   "source": [
    "# Mediante un ciclo For recorremos la lista de keywords dada, y vamos almacenando en un diccionario\n",
    "# el resultado de la función word_search(), que desarrollamos en la primera parte. \n",
    "# Al final retornamos el diccionario lleno."
   ]
  },
  {
   "cell_type": "markdown",
   "metadata": {},
   "source": [
    "### 7. Exercise: Working with External Libraries"
   ]
  },
  {
   "cell_type": "markdown",
   "metadata": {},
   "source": [
    "#### Primer Ejercicio."
   ]
  },
  {
   "cell_type": "markdown",
   "metadata": {},
   "source": [
    "This is a very challenging problem. Don't forget that you can receive a hint!\n",
    "\n",
    "Luigi is trying to perform an analysis to determine the best items for winning races on the Mario Kart circuit. He has some data in the form of lists of dictionaries that look like..."
   ]
  },
  {
   "cell_type": "code",
   "execution_count": 28,
   "metadata": {},
   "outputs": [
    {
     "data": {
      "text/plain": [
       "[{'name': 'Peach',\n",
       "  'items': ['green shell', 'banana', 'green shell'],\n",
       "  'finish': 3},\n",
       " {'name': 'Bowser', 'items': ['green shell'], 'finish': 1},\n",
       " {'name': None, 'items': ['mushroom'], 'finish': 2},\n",
       " {'name': 'Toad', 'items': ['green shell', 'mushroom'], 'finish': 1}]"
      ]
     },
     "execution_count": 28,
     "metadata": {},
     "output_type": "execute_result"
    }
   ],
   "source": [
    "[\n",
    "    {'name': 'Peach', 'items': ['green shell', 'banana', 'green shell',], 'finish': 3},\n",
    "    {'name': 'Bowser', 'items': ['green shell',], 'finish': 1},\n",
    "    # Sometimes the racer's name wasn't recorded\n",
    "    {'name': None, 'items': ['mushroom',], 'finish': 2},\n",
    "    {'name': 'Toad', 'items': ['green shell', 'mushroom'], 'finish': 1},\n",
    "]"
   ]
  },
  {
   "cell_type": "markdown",
   "metadata": {},
   "source": [
    "'items' is a list of all the power-up items the racer picked up in that race, and 'finish' was their placement in the race (1 for first place, 3 for third, etc.).\n",
    "\n",
    "He wrote the function below to take a list like this and return a dictionary mapping each item to how many times it was picked up by first-place finishers."
   ]
  },
  {
   "cell_type": "code",
   "execution_count": 29,
   "metadata": {},
   "outputs": [],
   "source": [
    "def best_items(racers):\n",
    "    \"\"\"Given a list of racer dictionaries, return a dictionary mapping items to the number\n",
    "    of times those items were picked up by racers who finished in first place.\n",
    "    \"\"\"\n",
    "    winner_item_counts = {}\n",
    "    for i in range(len(racers)):\n",
    "        # The i'th racer dictionary\n",
    "        racer = racers[i]\n",
    "        # We're only interested in racers who finished in first\n",
    "        if racer['finish'] == 1:\n",
    "            for i in racer['items']:\n",
    "                # Add one to the count for this item (adding it to the dict if necessary)\n",
    "                if i not in winner_item_counts:\n",
    "                    winner_item_counts[i] = 0\n",
    "                winner_item_counts[i] += 1\n",
    "\n",
    "        # Data quality issues :/ Print a warning about racers with no name set. We'll take care of it later.\n",
    "        if racer['name'] is None:\n",
    "            print(\"WARNING: Encountered racer with unknown name on iteration {}/{} (racer = {})\".format(\n",
    "                i+1, len(racers), racer['name'])\n",
    "                 )\n",
    "    return winner_item_counts"
   ]
  },
  {
   "cell_type": "markdown",
   "metadata": {},
   "source": [
    "He tried it on a small example list above and it seemed to work correctly:"
   ]
  },
  {
   "cell_type": "code",
   "execution_count": 30,
   "metadata": {},
   "outputs": [
    {
     "name": "stdout",
     "output_type": "stream",
     "text": [
      "WARNING: Encountered racer with unknown name on iteration 3/4 (racer = None)\n"
     ]
    },
    {
     "data": {
      "text/plain": [
       "{'green shell': 2, 'mushroom': 1}"
      ]
     },
     "execution_count": 30,
     "metadata": {},
     "output_type": "execute_result"
    }
   ],
   "source": [
    "sample = [\n",
    "    {'name': 'Peach', 'items': ['green shell', 'banana', 'green shell',], 'finish': 3},\n",
    "    {'name': 'Bowser', 'items': ['green shell',], 'finish': 1},\n",
    "    {'name': None, 'items': ['mushroom',], 'finish': 2},\n",
    "    {'name': 'Toad', 'items': ['green shell', 'mushroom'], 'finish': 1},\n",
    "]\n",
    "best_items(sample)"
   ]
  },
  {
   "cell_type": "markdown",
   "metadata": {},
   "source": [
    "However, when he tried running it on his full dataset, the program crashed with a TypeError.\n",
    "\n",
    "Can you guess why? Try running the code cell below to see the error message Luigi is getting. Once you've identified the bug, fix it in the cell below (so that it runs without any errors).\n",
    "\n",
    "Hint: Luigi's bug is similar to one we encountered in the tutorial when we talked about star imports."
   ]
  },
  {
   "cell_type": "code",
   "execution_count": null,
   "metadata": {},
   "outputs": [],
   "source": [
    "# Import luigi's full dataset of race data\n",
    "# from learntools.python.luigi_analysis import full_dataset\n",
    "\n",
    "# Fix me!\n",
    "def best_items(racers):\n",
    "    winner_item_counts = {}\n",
    "    for i in range(len(racers)):\n",
    "        # The i'th racer dictionary\n",
    "        racer = racers[i]\n",
    "        # We're only interested in racers who finished in first\n",
    "        if racer['finish'] == 1:\n",
    "            for i in racer['items']:\n",
    "                # Add one to the count for this item (adding it to the dict if necessary)\n",
    "                if i not in winner_item_counts:\n",
    "                    winner_item_counts[i] = 0\n",
    "                winner_item_counts[i] += 1\n",
    "\n",
    "        # Data quality issues :/ Print a warning about racers with no name set. We'll take care of it later.\n",
    "        if racer['name'] is None:\n",
    "            print(\"WARNING: Encountered racer with unknown name on iteration {}/{} (racer = {})\".format(\n",
    "                i+1, len(racers), racer['name'])\n",
    "                 )\n",
    "    return winner_item_counts\n",
    "\n",
    "# Try analyzing the imported full dataset\n",
    "# best_items(full_dataset)"
   ]
  },
  {
   "cell_type": "code",
   "execution_count": null,
   "metadata": {},
   "outputs": [],
   "source": [
    "# La salida que nos da es esta:\n",
    "WARNING: Encountered racer with unknown name on iteration 4/8 (racer = None)\n",
    "---------------------------------------------------------------------------\n",
    "TypeError                                 Traceback (most recent call last)\n",
    "<ipython-input-2-918deaed7c2c> in <module>\n",
    "     24 \n",
    "     25 # Try analyzing the imported full dataset\n",
    "---> 26 best_items(full_dataset)\n",
    "\n",
    "<ipython-input-2-918deaed7c2c> in best_items(racers)\n",
    "     19         if racer['name'] is None:\n",
    "     20             print(\"WARNING: Encountered racer with unknown name on iteration {}/{} (racer = {})\".format(\n",
    "---> 21                 i+1, len(racers), racer['name'])\n",
    "     22                  )\n",
    "     23     return winner_item_counts\n",
    "\n",
    "TypeError: can only concatenate str (not \"int\") to str"
   ]
  },
  {
   "cell_type": "code",
   "execution_count": 33,
   "metadata": {},
   "outputs": [],
   "source": [
    "# En este Ejercicio lo que nos dan es un codigo que en pocos datos se ejecuta normal pero al adicionar \n",
    "# mas datos nos arroja el error que vemos arriba.\n",
    "# Con la información que nos da el error y la pista dada anteriormente, volvemos a examinar el código \n",
    "# y notamos que la variable \"i\" tiene dos usos distintos en cada los dos ciclos for, \n",
    "# lo cual puede estar causando el conflicto al no saber cual usar y que además una i es int y la otra \n",
    "# es string. Corregimos el código."
   ]
  },
  {
   "cell_type": "code",
   "execution_count": 34,
   "metadata": {},
   "outputs": [],
   "source": [
    "# Import luigi's full dataset of race data\n",
    "# from learntools.python.luigi_analysis import full_dataset\n",
    "\n",
    "# Fixed!\n",
    "def best_items(racers):\n",
    "    winner_item_counts = {}\n",
    "    iteration=0\n",
    "    for i in range(len(racers)):\n",
    "        # The i'th racer dictionary\n",
    "        racer = racers[i]\n",
    "        # We're only interested in racers who finished in first\n",
    "        if racer['finish'] == 1:\n",
    "            for i in racer['items']:\n",
    "                # Add one to the count for this item (adding it to the dict if necessary)\n",
    "                if i not in winner_item_counts:\n",
    "                    winner_item_counts[i] = 0\n",
    "                winner_item_counts[i] += 1\n",
    "        iteration+=1\n",
    "\n",
    "        # Data quality issues :/ Print a warning about racers with no name set. We'll take care of it later.\n",
    "        if racer['name'] is None:\n",
    "            print(\"WARNING: Encountered racer with unknown name on iteration {}/{} (racer = {})\".format(\n",
    "                iteration, len(racers), racer['name'])\n",
    "                 )\n",
    "    return winner_item_counts\n",
    "\n",
    "# Try analyzing the imported full dataset\n",
    "# best_items(full_dataset)"
   ]
  },
  {
   "cell_type": "code",
   "execution_count": 36,
   "metadata": {},
   "outputs": [],
   "source": [
    "# Decidí dejar la primera opción que se me ocurrió para solucionar, aunque no es la mas ortodoxa xD.\n",
    "# Lo que hice fue crear una nueva variable para lo que quería mostrar en el Warning, la llamé iteration\n",
    "# y la incrementé dentro del primer for, con la intención de que contara cada iteración. \n",
    "# Finalmente la coloqué en Warning, reemplazando la i y queda solucionado el problema en parte porque \n",
    "# pese a que no sale el error, si continúa una ambiguedad que hace el código poco legible. \n",
    "# Lo ideal sería cambiar el nombre de una de las dos i.\n",
    "# A continuación el codigo correcto:\n",
    "def best_items(racers):\n",
    "    winner_item_counts = {}\n",
    "    for i in range(len(racers)):\n",
    "        racer = racers[i]\n",
    "        if racer['finish'] == 1:\n",
    "            for item in racer['items']:\n",
    "                if item not in winner_item_counts:\n",
    "                    winner_item_counts[i] = 0\n",
    "                winner_item_counts[i] += 1\n",
    "\n",
    "        if racer['name'] is None:\n",
    "            print(\"WARNING: Encountered racer with unknown name on iteration {}/{} (racer = {})\".format(\n",
    "                i, len(racers), racer['name'])\n",
    "                 )\n",
    "    return winner_item_counts"
   ]
  },
  {
   "cell_type": "code",
   "execution_count": 38,
   "metadata": {},
   "outputs": [],
   "source": [
    "# En lugar de i en el segundo for, coloco item, igualmente en el if dentro del for tambien uso la \n",
    "# variable item y ya con esto ahora si quedaría el codigo correcto."
   ]
  },
  {
   "cell_type": "markdown",
   "metadata": {},
   "source": [
    "#### Segundo Ejercicio"
   ]
  },
  {
   "cell_type": "markdown",
   "metadata": {},
   "source": [
    "Suppose we wanted to create a new type to represent hands in blackjack. One thing we might want to do with this type is overload the comparison operators like > and <= so that we could use them to check whether one hand beats another. e.g. it'd be cool if we could do this:"
   ]
  },
  {
   "cell_type": "code",
   "execution_count": null,
   "metadata": {},
   "outputs": [],
   "source": [
    ">>> hand1 = BlackjackHand(['K', 'A'])\n",
    ">>> hand2 = BlackjackHand(['7', '10', 'A'])\n",
    ">>> hand1 > hand2\n",
    "True"
   ]
  },
  {
   "cell_type": "markdown",
   "metadata": {},
   "source": [
    "Well, we're not going to do all that in this question (defining custom classes is a bit beyond the scope of these lessons), but the code we're asking you to write in the function below is very similar to what we'd have to write if we were defining our own BlackjackHand class. (We'd put it in the __gt__ magic method to define our custom behaviour for >.)\n",
    "\n",
    "Fill in the body of the blackjack_hand_greater_than function according to the docstring."
   ]
  },
  {
   "cell_type": "code",
   "execution_count": 43,
   "metadata": {},
   "outputs": [
    {
     "data": {
      "text/plain": [
       "True"
      ]
     },
     "execution_count": 43,
     "metadata": {},
     "output_type": "execute_result"
    }
   ],
   "source": [
    "# Lo que nos pide este ejercicio es desarrollar una función que sea capaz de calcular el valor de una\n",
    "# mano de Blackjack, para posteriormente usarla en la función propuesta blackjack_hand_greater_than.\n",
    "# La función blackjack_hand_greater_than debe devolver true, si la primera mano que se pase como \n",
    "# argumento, vence a la segunda mano, y devuelve false en caso contrario.\n",
    "# Las condiciones para que la mano1 venza a la mano2 serían:\n",
    "#     Que la mano1 no se pase de 21 puntos.\n",
    "#     Que la mano1 supere en puntos a la mano2 o que la mano2 se pase de 21 puntos.\n",
    "# Pero hay un truco, se deben tener en cuenta que el valor de los aces puede ser 1 o 11 dependiendo\n",
    "# de qué ayuda mas a acercarse a 21.\n",
    "# Esta fue mi solución.\n",
    "def TotalHand(hand):\n",
    "    diccionario = {'1':1,'2':2,'3':3,'4':4,'5': 5,'6': 6,'7': 7,'8': 8 ,'9': 9,'10': 10,'J': 10, 'Q':10, 'K':10}\n",
    "    tot= aces= 0\n",
    "    for card in hand:\n",
    "        if card == 'A':\n",
    "            aces += 1\n",
    "        else:\n",
    "            tot+=diccionario[card]\n",
    "    suma=tot+aces\n",
    "    while suma+10<=21 and aces>0:\n",
    "        aces-=1\n",
    "        suma+=10\n",
    "    return suma\n",
    "# Creamos una función auxiliar que llamé TotalHand, para calcular el valor de una mano dada.\n",
    "# Para esto lo primero que se me ocurrió fue crear un diccionario con los valores de cada carta.\n",
    "# Luego recorro la mano contando aces y sumando el valor de las otras cartas.\n",
    "# Sumo los aces con el total de las otras cartas y ese resultado lo ultilzo para saber si cabe\n",
    "# cambiar el valor de uno o mas aces de 1 a 11, si los hay.\n",
    "# Esto ultimo lo hago sumando 10 puntos a la suma y mientras eso me de menos de 21 o igual \n",
    "# a 21, y tengo aces para cambiar, sumo definitivamente los 10 y resto 1 a los aces.\n",
    "# Al final devuelvo la variable suma que sería el valor de la mano.\n",
    "    \n",
    "def blackjack_hand_greater_than(hand_1, hand_2):\n",
    "    \"\"\"\n",
    "    Return True if hand_1 beats hand_2, and False otherwise.\n",
    "    \n",
    "    In order for hand_1 to beat hand_2 the following must be true:\n",
    "    - The total of hand_1 must not exceed 21\n",
    "    - The total of hand_1 must exceed the total of hand_2 OR hand_2's total must exceed 21\n",
    "    \n",
    "    Hands are represented as a list of cards. Each card is represented by a string.\n",
    "    \n",
    "    When adding up a hand's total, cards with numbers count for that many points. Face\n",
    "    cards ('J', 'Q', and 'K') are worth 10 points. 'A' can count for 1 or 11.\n",
    "    \n",
    "    When determining a hand's total, you should try to count aces in the way that \n",
    "    maximizes the hand's total without going over 21. e.g. the total of ['A', 'A', '9'] is 21,\n",
    "    the total of ['A', 'A', '9', '3'] is 14.\n",
    "    \n",
    "    Examples:\n",
    "    >>> blackjack_hand_greater_than(['K'], ['3', '4'])\n",
    "    True\n",
    "    >>> blackjack_hand_greater_than(['K'], ['10'])\n",
    "    False\n",
    "    >>> blackjack_hand_greater_than(['K', 'K', '2'], ['3'])\n",
    "    False\n",
    "    \"\"\"\n",
    "    \n",
    "    hand1=TotalHand(hand_1)\n",
    "    hand2=TotalHand(hand_2)\n",
    "    if hand1<=21 and (hand1 > hand2 or hand2>21):\n",
    "        return True\n",
    "    else:\n",
    "        return False\n",
    "blackjack_hand_greater_than(['A', 'A', '9'], ['A', 'A', '9', '3'])\n",
    "# blackjack_hand_greater_than(['K'], ['3', '4'])\n",
    "# Blackjack_hand_greater_than(['K'], ['10'])\n",
    "# blackjack_hand_greater_than(['K', 'K', '2'], ['3'])"
   ]
  },
  {
   "cell_type": "code",
   "execution_count": 44,
   "metadata": {},
   "outputs": [],
   "source": [
    "# En la función blackjack_hand_greater_than, nos piden que usemos la anterior función con la que\n",
    "# calculamos los totales de las manos, para luego comparar ambar manos para sabes cual gana.\n",
    "# Esto lo hice transformando las condiciones dadas en el enunciado en condiciones para el if y listo. "
   ]
  },
  {
   "cell_type": "markdown",
   "metadata": {},
   "source": [
    "## Final"
   ]
  },
  {
   "cell_type": "markdown",
   "metadata": {},
   "source": [
    "Estos ejercicios son desde mi punto de vista los mejores de entre todos los propuestos en el curso basico de Python de Kaggle, de hecho alguno que otro ejercicio utiliza data que solo puede usarse dentro de esa plataforma. Traté de mantener y anotar la lógica que apliqué para los ejercicios en el primer contacto, sin que las respuestas o pistas afectaran demasiado.\n",
    "Espero esto le sea útil a alguién, como es útil para mi. "
   ]
  }
 ],
 "metadata": {
  "celltoolbar": "Raw Cell Format",
  "kernelspec": {
   "display_name": "Python 3",
   "language": "python",
   "name": "python3"
  },
  "language_info": {
   "codemirror_mode": {
    "name": "ipython",
    "version": 3
   },
   "file_extension": ".py",
   "mimetype": "text/x-python",
   "name": "python",
   "nbconvert_exporter": "python",
   "pygments_lexer": "ipython3",
   "version": "3.8.5"
  }
 },
 "nbformat": 4,
 "nbformat_minor": 4
}
